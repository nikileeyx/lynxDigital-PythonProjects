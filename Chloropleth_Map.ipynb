{
  "nbformat": 4,
  "nbformat_minor": 0,
  "metadata": {
    "colab": {
      "name": "Chloropleth Map.ipynb",
      "provenance": [],
      "toc_visible": true
    },
    "kernelspec": {
      "name": "python3",
      "display_name": "Python 3"
    },
    "language_info": {
      "name": "python"
    }
  },
  "cells": [
    {
      "cell_type": "markdown",
      "metadata": {
        "id": "zVbkP2AAFySv"
      },
      "source": [
        "# **COVID19 Chloropleth Map**\n",
        "\n",
        "https://towardsdatascience.com/how-to-build-plotly-choropleth-map-with-covid-data-using-pandas-in-google-colab-45951040b8e4\n",
        "https://pythonmatplotlibtips.blogspot.com/2017/12/plot-on-image-matplotlib-pyplot.html"
      ]
    },
    {
      "cell_type": "markdown",
      "metadata": {
        "id": "wUHG-JZ3dq0R"
      },
      "source": [
        "#Practice: Gathering Data on COVID-19\n",
        "What are elements of weather and climate that we can measure? \n",
        "\n",
        "We can collect data about rainfall, temperature and humidity. This can predict the weather conditions to determine where is the best place for certain activities."
      ]
    },
    {
      "cell_type": "markdown",
      "metadata": {
        "id": "H8xgV3cob56n"
      },
      "source": [
        "Importing the necessary libraries and packages:"
      ]
    },
    {
      "cell_type": "code",
      "metadata": {
        "colab": {
          "base_uri": "https://localhost:8080/"
        },
        "id": "KK5gaMAnb4XC",
        "outputId": "415f0702-e181-4a3b-9465-606d476b4910"
      },
      "source": [
        "!pip install plotly-geo\n",
        "!pip install geopandas\n",
        "!pip install pyshp\n",
        "!pip install shapely"
      ],
      "execution_count": 1,
      "outputs": [
        {
          "output_type": "stream",
          "text": [
            "Collecting plotly-geo\n",
            "\u001b[?25l  Downloading https://files.pythonhosted.org/packages/be/c6/be7d476e8c14c318c7b80329317d5dd5d1b876c393c9f8c0363b0dd188b8/plotly_geo-1.0.0-py3-none-any.whl (23.7MB)\n",
            "\u001b[K     |████████████████████████████████| 23.7MB 121kB/s \n",
            "\u001b[?25hInstalling collected packages: plotly-geo\n",
            "Successfully installed plotly-geo-1.0.0\n",
            "Collecting geopandas\n",
            "\u001b[?25l  Downloading https://files.pythonhosted.org/packages/d7/bf/e9cefb69d39155d122b6ddca53893b61535fa6ffdad70bf5ef708977f53f/geopandas-0.9.0-py2.py3-none-any.whl (994kB)\n",
            "\u001b[K     |████████████████████████████████| 1.0MB 31.9MB/s \n",
            "\u001b[?25hCollecting pyproj>=2.2.0\n",
            "\u001b[?25l  Downloading https://files.pythonhosted.org/packages/11/1d/1c54c672c2faf08d28fe78e15d664c048f786225bef95ad87b6c435cf69e/pyproj-3.1.0-cp37-cp37m-manylinux2010_x86_64.whl (6.6MB)\n",
            "\u001b[K     |████████████████████████████████| 6.6MB 46.9MB/s \n",
            "\u001b[?25hRequirement already satisfied: pandas>=0.24.0 in /usr/local/lib/python3.7/dist-packages (from geopandas) (1.1.5)\n",
            "Requirement already satisfied: shapely>=1.6 in /usr/local/lib/python3.7/dist-packages (from geopandas) (1.7.1)\n",
            "Collecting fiona>=1.8\n",
            "\u001b[?25l  Downloading https://files.pythonhosted.org/packages/9c/fc/9807326c37a6bfb2393ae3e1cca147aa74844562c4d5daa782d6e97ad2bc/Fiona-1.8.20-cp37-cp37m-manylinux1_x86_64.whl (15.4MB)\n",
            "\u001b[K     |████████████████████████████████| 15.4MB 128kB/s \n",
            "\u001b[?25hRequirement already satisfied: certifi in /usr/local/lib/python3.7/dist-packages (from pyproj>=2.2.0->geopandas) (2021.5.30)\n",
            "Requirement already satisfied: numpy>=1.15.4 in /usr/local/lib/python3.7/dist-packages (from pandas>=0.24.0->geopandas) (1.19.5)\n",
            "Requirement already satisfied: python-dateutil>=2.7.3 in /usr/local/lib/python3.7/dist-packages (from pandas>=0.24.0->geopandas) (2.8.1)\n",
            "Requirement already satisfied: pytz>=2017.2 in /usr/local/lib/python3.7/dist-packages (from pandas>=0.24.0->geopandas) (2018.9)\n",
            "Collecting click-plugins>=1.0\n",
            "  Downloading https://files.pythonhosted.org/packages/e9/da/824b92d9942f4e472702488857914bdd50f73021efea15b4cad9aca8ecef/click_plugins-1.1.1-py2.py3-none-any.whl\n",
            "Collecting cligj>=0.5\n",
            "  Downloading https://files.pythonhosted.org/packages/73/86/43fa9f15c5b9fb6e82620428827cd3c284aa933431405d1bcf5231ae3d3e/cligj-0.7.2-py3-none-any.whl\n",
            "Collecting munch\n",
            "  Downloading https://files.pythonhosted.org/packages/cc/ab/85d8da5c9a45e072301beb37ad7f833cd344e04c817d97e0cc75681d248f/munch-2.5.0-py2.py3-none-any.whl\n",
            "Requirement already satisfied: attrs>=17 in /usr/local/lib/python3.7/dist-packages (from fiona>=1.8->geopandas) (21.2.0)\n",
            "Requirement already satisfied: setuptools in /usr/local/lib/python3.7/dist-packages (from fiona>=1.8->geopandas) (57.0.0)\n",
            "Requirement already satisfied: six>=1.7 in /usr/local/lib/python3.7/dist-packages (from fiona>=1.8->geopandas) (1.15.0)\n",
            "Requirement already satisfied: click>=4.0 in /usr/local/lib/python3.7/dist-packages (from fiona>=1.8->geopandas) (7.1.2)\n",
            "Installing collected packages: pyproj, click-plugins, cligj, munch, fiona, geopandas\n",
            "Successfully installed click-plugins-1.1.1 cligj-0.7.2 fiona-1.8.20 geopandas-0.9.0 munch-2.5.0 pyproj-3.1.0\n",
            "Collecting pyshp\n",
            "\u001b[?25l  Downloading https://files.pythonhosted.org/packages/38/85/fbf87e7aa55103e0d06af756bdbc15cf821fa580414c23142d60a35d4f85/pyshp-2.1.3.tar.gz (219kB)\n",
            "\u001b[K     |████████████████████████████████| 225kB 35.6MB/s \n",
            "\u001b[?25hBuilding wheels for collected packages: pyshp\n",
            "  Building wheel for pyshp (setup.py) ... \u001b[?25l\u001b[?25hdone\n",
            "  Created wheel for pyshp: filename=pyshp-2.1.3-cp37-none-any.whl size=37325 sha256=3d41773ed16efa975dc112138540c34533dacbfb013c75b83289fa5aad067cca\n",
            "  Stored in directory: /root/.cache/pip/wheels/76/2b/d4/53e6b9a0fb0a9f9f29664cf82605af8bc81d5ab44d987896dd\n",
            "Successfully built pyshp\n",
            "Installing collected packages: pyshp\n",
            "Successfully installed pyshp-2.1.3\n",
            "Requirement already satisfied: shapely in /usr/local/lib/python3.7/dist-packages (1.7.1)\n"
          ],
          "name": "stdout"
        }
      ]
    },
    {
      "cell_type": "code",
      "metadata": {
        "colab": {
          "base_uri": "https://localhost:8080/"
        },
        "id": "i0G3FwxqcBo5",
        "outputId": "fe6f728d-8379-4ed4-8d64-a74051834352"
      },
      "source": [
        "# Clone repository\n",
        "!git clone https://github.com/sidbannet/US-political-analysis.git\n",
        "%cd ./US-political-analysis\n",
        "!git submodule init\n",
        "!git submodule update --remote"
      ],
      "execution_count": 2,
      "outputs": [
        {
          "output_type": "stream",
          "text": [
            "Cloning into 'US-political-analysis'...\n",
            "remote: Enumerating objects: 89, done.\u001b[K\n",
            "remote: Counting objects: 100% (89/89), done.\u001b[K\n",
            "remote: Compressing objects: 100% (70/70), done.\u001b[K\n",
            "remote: Total 89 (delta 42), reused 53 (delta 18), pack-reused 0\u001b[K\n",
            "Unpacking objects: 100% (89/89), done.\n",
            "/content/US-political-analysis\n",
            "Submodule 'COVID-19' (https://github.com/CSSEGISandData/COVID-19.git) registered for path 'COVID-19'\n",
            "Submodule 'stat-tools' (https://github.com/sidbannet/stat-tools.git) registered for path 'stat-tools'\n",
            "Cloning into '/content/US-political-analysis/COVID-19'...\n",
            "Cloning into '/content/US-political-analysis/stat-tools'...\n",
            "Submodule path 'COVID-19': checked out '3048d5312ddb2c54c3a8a91f7b7bff68a87aca78'\n",
            "Submodule path 'stat-tools': checked out 'bd932b36addc046de367433bf8598c42ec49775c'\n"
          ],
          "name": "stdout"
        }
      ]
    },
    {
      "cell_type": "code",
      "metadata": {
        "id": "NxJjdk53cESc"
      },
      "source": [
        "from urllib.request import urlopen\n",
        "import os\n",
        "import pandas as pd\n",
        "import plotly.express as px\n",
        "import json"
      ],
      "execution_count": 3,
      "outputs": []
    },
    {
      "cell_type": "markdown",
      "metadata": {
        "id": "2YOgbnQtcD3J"
      },
      "source": [
        "Ensure that all the libraries are imported!"
      ]
    },
    {
      "cell_type": "markdown",
      "metadata": {
        "id": "LJ6Iw21LeCtD"
      },
      "source": [
        "## **Part 1 - Collection of information**\n",
        "\n",
        "Let's create our data set of information. First, we have to create a Comma Separated Variables (CSV).\n",
        "\n",
        "Matplotlib Library is a plotting library for the Python programming language and its numerical mathematics extension NumPy. It provides an object-oriented API for embedding plots into applications using general-purpose GUI toolkits like Tkinter, wxPython, Qt, or GTK. (https://matplotlib.org/)\n"
      ]
    },
    {
      "cell_type": "code",
      "metadata": {
        "id": "W6IeAG91b_LD"
      },
      "source": [
        "## Initialize pandas\n",
        "df_covid_dead = pd.DataFrame()\n",
        "## Define folder\n",
        "us_data_folder = r'COVID-19' \\\n",
        "                 + os.sep + 'csse_covid_19_data' \\\n",
        "                 + os.sep + 'csse_covid_19_time_series' \\\n",
        "                 + os.sep\n",
        "## Read COVID data\n",
        "df_covid_dead = pd.read_csv(\n",
        "    us_data_folder + 'time_series_covid19_deaths_US.csv',\n",
        ")\n",
        "df_covid_conf = pd.read_csv(\n",
        "    us_data_folder + 'time_series_covid19_confirmed_US.csv'\n",
        ")"
      ],
      "execution_count": null,
      "outputs": []
    },
    {
      "cell_type": "code",
      "metadata": {
        "colab": {
          "base_uri": "https://localhost:8080/"
        },
        "id": "pTQJR31knDvK",
        "outputId": "c79ecb2b-65f0-4eb5-8fca-254b03349ef9"
      },
      "source": [
        "## US COVID data filtering\n",
        "df_covid = (\n",
        "    df_covid_dead[df_covid_dead.FIPS > 1000]\n",
        ")[df_covid_dead.FIPS < 80000].copy()  # This FIPS lies in US voting counties\n",
        "df_conf = (\n",
        "    df_covid_conf[df_covid_conf.FIPS > 1000]\n",
        ")[df_covid_conf.FIPS < 80000].copy()"
      ],
      "execution_count": null,
      "outputs": [
        {
          "output_type": "stream",
          "text": [
            "/usr/local/lib/python3.7/dist-packages/ipykernel_launcher.py:4: UserWarning:\n",
            "\n",
            "Boolean Series key will be reindexed to match DataFrame index.\n",
            "\n",
            "/usr/local/lib/python3.7/dist-packages/ipykernel_launcher.py:7: UserWarning:\n",
            "\n",
            "Boolean Series key will be reindexed to match DataFrame index.\n",
            "\n"
          ],
          "name": "stderr"
        }
      ]
    },
    {
      "cell_type": "markdown",
      "metadata": {
        "id": "ASwrZAhHICMK"
      },
      "source": [
        "# **Part 2 - Data Analysis**\n",
        "https://pythonmatplotlibtips.blogspot.com/2017/12/plot-on-image-matplotlib-pyplot.html"
      ]
    },
    {
      "cell_type": "code",
      "metadata": {
        "colab": {
          "base_uri": "https://localhost:8080/",
          "height": 223
        },
        "id": "66JBvK36nR58",
        "outputId": "bbe886d8-7a98-4f1a-ab0b-28d459c14591"
      },
      "source": [
        "num_days = 14\n",
        "df_conf_ts = (\n",
        "    (\n",
        "        (\n",
        "            df_conf.set_index('FIPS')\n",
        "        ).T\n",
        "     ).drop(\n",
        "         ['iso2', 'iso3', 'UID', 'code3', 'Admin2', 'Province_State', 'Country_Region', 'Lat', 'Long_', 'Combined_Key']\n",
        "         ).diff(\n",
        "             periods=num_days\n",
        "             ) / 1.0\n",
        ")\n",
        "df_dead_ts = (\n",
        "    (\n",
        "        (\n",
        "            df_covid.set_index('FIPS')\n",
        "        ).T\n",
        "     ).drop(\n",
        "         ['iso2', 'iso3', 'UID', 'code3', 'Admin2', 'Province_State', 'Country_Region', 'Lat', 'Long_', 'Combined_Key',\n",
        "          'Population', ]\n",
        "         ).diff(\n",
        "             periods=num_days\n",
        "             ) / 1.0\n",
        ")\n",
        "\n",
        "df_conf_ts_cum = (\n",
        "    (\n",
        "        (\n",
        "            df_conf.set_index('FIPS')\n",
        "        ).T\n",
        "     ).drop(\n",
        "         ['iso2', 'iso3', 'UID', 'code3', 'Admin2', 'Province_State', 'Country_Region', 'Lat', 'Long_', 'Combined_Key']\n",
        "         )\n",
        ")\n",
        "df_dead_ts_cum = (\n",
        "    (\n",
        "        (\n",
        "            df_covid.set_index('FIPS')\n",
        "        ).T\n",
        "     ).drop(\n",
        "         ['iso2', 'iso3', 'UID', 'code3', 'Admin2', 'Province_State', 'Country_Region', 'Lat', 'Long_', 'Combined_Key',\n",
        "          'Population', ]\n",
        "         )\n",
        ")\n",
        "\n",
        "df_presentation = pd.DataFrame(\n",
        "    {\n",
        "        'FIPS': df_covid.FIPS,\n",
        "        'State': df_covid.Province_State,\n",
        "        'County': df_covid.Admin2,        \n",
        "        'Population': df_covid.Population,\n",
        "        'Confirmed': df_conf_ts.values[-1],\n",
        "        'Death': df_dead_ts.values[-1],\n",
        "        'Death_total': df_dead_ts_cum.values[-1],\n",
        "        'Confirmed_earlier': df_conf_ts.values[-1 - num_days],\n",
        "        'Death_earlier': df_dead_ts.values[-1 - num_days],\n",
        "    },\n",
        ")\n",
        "\n",
        "df_presentation = df_presentation[df_presentation.Population > 0]\n",
        "df_presentation['Confirmed_per_100k'] = df_presentation.Confirmed / df_presentation.Population * 100000\n",
        "df_presentation['Confirmed_Growth_per_100k'] = (\n",
        "    df_presentation.Confirmed - df_presentation.Confirmed_earlier\n",
        "    ) / df_presentation.Population * 100000\n",
        "df_presentation['Total_Death_per_mil'] = df_presentation.Death_total / df_presentation.Population * 1000000\n",
        "df_presentation = df_presentation.drop(\n",
        "    columns=[\n",
        "        'Confirmed',\n",
        "        'Death',\n",
        "        'Death_total',\n",
        "        'Confirmed_earlier',\n",
        "        'Death_earlier',\n",
        "    ]\n",
        ")\n",
        "\n",
        "df_presentation['FIPS'] = df_presentation['FIPS'].astype('int64', copy=True)\n",
        "df_presentation['FIPS'] = df_presentation['FIPS'].astype('str', copy=True)\n",
        "df_presentation['FIPS'] = df_presentation['FIPS'].str.rjust(5, '0')\n",
        "\n",
        "df_presentation = df_presentation.set_index('FIPS')"
      ],
      "execution_count": null,
      "outputs": [
        {
          "output_type": "error",
          "ename": "NameError",
          "evalue": "ignored",
          "traceback": [
            "\u001b[0;31m---------------------------------------------------------------------------\u001b[0m",
            "\u001b[0;31mNameError\u001b[0m                                 Traceback (most recent call last)",
            "\u001b[0;32m<ipython-input-5-9305938b04ec>\u001b[0m in \u001b[0;36m<module>\u001b[0;34m()\u001b[0m\n\u001b[1;32m      3\u001b[0m     (\n\u001b[1;32m      4\u001b[0m         (\n\u001b[0;32m----> 5\u001b[0;31m             \u001b[0mdf_conf\u001b[0m\u001b[0;34m.\u001b[0m\u001b[0mset_index\u001b[0m\u001b[0;34m(\u001b[0m\u001b[0;34m'FIPS'\u001b[0m\u001b[0;34m)\u001b[0m\u001b[0;34m\u001b[0m\u001b[0;34m\u001b[0m\u001b[0m\n\u001b[0m\u001b[1;32m      6\u001b[0m         ).T\n\u001b[1;32m      7\u001b[0m      \u001b[0;34m)\u001b[0m\u001b[0;34m.\u001b[0m\u001b[0mdrop\u001b[0m\u001b[0;34m(\u001b[0m\u001b[0;34m\u001b[0m\u001b[0;34m\u001b[0m\u001b[0m\n",
            "\u001b[0;31mNameError\u001b[0m: name 'df_conf' is not defined"
          ]
        }
      ]
    },
    {
      "cell_type": "code",
      "metadata": {
        "colab": {
          "base_uri": "https://localhost:8080/",
          "height": 223
        },
        "id": "hf-z8NZonzji",
        "outputId": "8ac05cca-ac2b-4243-bfc6-82f34768b22a"
      },
      "source": [
        "\n",
        "#@title Analysis of data { run: \"auto\", display-mode: \"form\" }\n",
        "#@markdown **Choose with these options:**\n",
        "Number_of_days = \"14\" #@param [\"7\", \"14\", \"21\", \"28\"] {allow-input: true}\n",
        "\n",
        "num_days = int(Number_of_days)\n",
        "\n",
        "df_covid_analysis = pd.DataFrame(\n",
        "    data=df_covid.FIPS\n",
        ").set_index('FIPS')\n",
        "df_conf_ts = (\n",
        "    (\n",
        "        (\n",
        "            df_conf.set_index('FIPS')\n",
        "        ).T\n",
        "     ).drop(\n",
        "         ['iso2', 'iso3', 'UID', 'code3', 'Admin2', 'Province_State', 'Country_Region', 'Lat', 'Long_', 'Combined_Key']\n",
        "         ).diff(\n",
        "             periods=num_days\n",
        "             ) / 1.0\n",
        ")\n",
        "df_dead_ts = (\n",
        "    (\n",
        "        (\n",
        "            df_covid.set_index('FIPS')\n",
        "        ).T\n",
        "     ).drop(\n",
        "         ['iso2', 'iso3', 'UID', 'code3', 'Admin2', 'Province_State', 'Country_Region', 'Lat', 'Long_', 'Combined_Key',\n",
        "          'Population', ]\n",
        "         ).diff(\n",
        "             periods=num_days\n",
        "             ) / 1.0\n",
        ")\n",
        "\n",
        "df_conf_ts_cum = (\n",
        "    (\n",
        "        (\n",
        "            df_conf.set_index('FIPS')\n",
        "        ).T\n",
        "     ).drop(\n",
        "         ['iso2', 'iso3', 'UID', 'code3', 'Admin2', 'Province_State', 'Country_Region', 'Lat', 'Long_', 'Combined_Key']\n",
        "         )\n",
        ")\n",
        "df_dead_ts_cum = (\n",
        "    (\n",
        "        (\n",
        "            df_covid.set_index('FIPS')\n",
        "        ).T\n",
        "     ).drop(\n",
        "         ['iso2', 'iso3', 'UID', 'code3', 'Admin2', 'Province_State', 'Country_Region', 'Lat', 'Long_', 'Combined_Key',\n",
        "          'Population', ]\n",
        "         )\n",
        ")\n",
        "\n",
        "df_presentation = pd.DataFrame(\n",
        "    {\n",
        "        'FIPS': df_covid.FIPS,        \n",
        "        'State': df_covid.Province_State,\n",
        "        'County': df_covid.Admin2,        \n",
        "        'Population': df_covid.Population,\n",
        "        'Confirmed': df_conf_ts.values[-1],\n",
        "        'Death': df_dead_ts.values[-1],\n",
        "        'Death_total': df_dead_ts_cum.values[-1],\n",
        "        'Confirmed_earlier': df_conf_ts.values[-1 - num_days],\n",
        "        'Death_earlier': df_dead_ts.values[-1 - num_days],\n",
        "    },\n",
        ")\n",
        "\n",
        "df_grouped = (df_presentation.drop(['County', 'Population', 'FIPS'], axis='columns')).groupby('State').sum()\n",
        "df_grouped['Population'] = (df_presentation.drop(['County', 'FIPS'], axis='columns')).groupby('State').sum()\n",
        "\n",
        "df_presentation = df_presentation[df_presentation.Population > 0]\n",
        "df_presentation['Confirmed_per_100k'] = df_presentation.Confirmed / df_presentation.Population * 100000\n",
        "df_presentation['Death_per_100k'] = df_presentation.Death / df_presentation.Population * 100000\n",
        "df_presentation['Confirmed_Growth'] = (df_presentation.Confirmed - df_presentation.Confirmed_earlier) / df_presentation.Population * 100000\n",
        "df_presentation['Death_Growth'] = (df_presentation.Death - df_presentation.Death_earlier) / df_presentation.Population * 100000\n",
        "df_presentation['Total_Death_per_mil'] = df_presentation.Death_total / df_presentation.Population * 1000000\n",
        "df_presentation['Projected_per_mil'] = (\n",
        "    df_presentation.Confirmed_Growth + df_presentation.Confirmed_per_100k\n",
        "    )\n",
        "\n",
        "df_presentation['FIPS'] = df_presentation['FIPS'].astype('int64', copy=True)\n",
        "df_presentation['FIPS'] = df_presentation['FIPS'].astype('str', copy=True)\n",
        "df_presentation['FIPS'] = df_presentation['FIPS'].str.rjust(5, '0')\n",
        "\n",
        "df_presentation = df_presentation.set_index('FIPS')\n",
        "\n",
        "display(df_grouped)"
      ],
      "execution_count": null,
      "outputs": [
        {
          "output_type": "error",
          "ename": "NameError",
          "evalue": "ignored",
          "traceback": [
            "\u001b[0;31m---------------------------------------------------------------------------\u001b[0m",
            "\u001b[0;31mNameError\u001b[0m                                 Traceback (most recent call last)",
            "\u001b[0;32m<ipython-input-8-baebe7ca78e5>\u001b[0m in \u001b[0;36m<module>\u001b[0;34m()\u001b[0m\n\u001b[1;32m      6\u001b[0m \u001b[0mnum_days\u001b[0m \u001b[0;34m=\u001b[0m \u001b[0mint\u001b[0m\u001b[0;34m(\u001b[0m\u001b[0mNumber_of_days\u001b[0m\u001b[0;34m)\u001b[0m\u001b[0;34m\u001b[0m\u001b[0;34m\u001b[0m\u001b[0m\n\u001b[1;32m      7\u001b[0m \u001b[0;34m\u001b[0m\u001b[0m\n\u001b[0;32m----> 8\u001b[0;31m df_covid_analysis = pd.DataFrame(\n\u001b[0m\u001b[1;32m      9\u001b[0m     \u001b[0mdata\u001b[0m\u001b[0;34m=\u001b[0m\u001b[0mdf_covid\u001b[0m\u001b[0;34m.\u001b[0m\u001b[0mFIPS\u001b[0m\u001b[0;34m\u001b[0m\u001b[0;34m\u001b[0m\u001b[0m\n\u001b[1;32m     10\u001b[0m ).set_index('FIPS')\n",
            "\u001b[0;31mNameError\u001b[0m: name 'pd' is not defined"
          ]
        }
      ]
    },
    {
      "cell_type": "markdown",
      "metadata": {
        "id": "6mSqAl9q0dxs"
      },
      "source": [
        "# **Part 3 - Visualising Data**"
      ]
    },
    {
      "cell_type": "code",
      "metadata": {
        "id": "UnPYSuPmnTqs"
      },
      "source": [
        "with urlopen('https://raw.githubusercontent.com/plotly/datasets/master/geojson-counties-fips.json') as response:\n",
        "    counties = json.load(response)\n",
        "fig = px.choropleth_mapbox(df_presentation.reset_index(), \n",
        "                           geojson=counties, locations='FIPS', color='Confirmed_per_100k',\n",
        "                           color_continuous_scale='jet',\n",
        "                           range_color=(100, 1500),\n",
        "                           mapbox_style=\"carto-positron\",\n",
        "                           hover_name='County',                           \n",
        "                           zoom=3, center = {\"lat\": 37.0902, \"lon\": -95.7129},\n",
        "                           opacity=0.5,\n",
        "                           labels={'Confirmed_per_100k':'Last 2 week data'}\n",
        "                          )\n",
        "fig.update_layout(margin={\"r\":0,\"t\":0,\"l\":0,\"b\":0})\n",
        "fig.show()"
      ],
      "execution_count": null,
      "outputs": []
    },
    {
      "cell_type": "code",
      "metadata": {
        "id": "R504eSE6njpd"
      },
      "source": [
        "with urlopen('https://raw.githubusercontent.com/plotly/datasets/master/geojson-counties-fips.json') as response:\n",
        "    counties = json.load(response)\n",
        "fig = px.choropleth_mapbox(df_presentation.reset_index(), \n",
        "                           geojson=counties, locations='FIPS', color='Total_Death_per_mil',                           \n",
        "                           color_continuous_scale='jet',\n",
        "                           range_color=(00, 1000),\n",
        "                           mapbox_style=\"carto-positron\",\n",
        "                           hover_name='County',                           \n",
        "                           zoom=3, center = {\"lat\": 37.0902, \"lon\": -95.7129},\n",
        "                           opacity=0.5,\n",
        "                           labels={'Total_Death_per_mil':'Death per mil'}\n",
        "                          )\n",
        "fig.update_layout(margin={\"r\":0,\"t\":0,\"l\":0,\"b\":0})\n",
        "fig.show()"
      ],
      "execution_count": null,
      "outputs": []
    },
    {
      "cell_type": "markdown",
      "metadata": {
        "id": "_rRTiQwoIOJl"
      },
      "source": [
        "# **Part 4 - Importing Data from Google Maps**\n",
        "\n",
        "Google Maps is an Application Paging Index (API)"
      ]
    }
  ]
}